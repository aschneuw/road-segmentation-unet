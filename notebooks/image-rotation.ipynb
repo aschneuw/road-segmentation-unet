{
 "cells": [
  {
   "cell_type": "code",
   "execution_count": 24,
   "metadata": {},
   "outputs": [],
   "source": [
    "%matplotlib inline\n",
    "import matplotlib.image as mpimg\n",
    "import numpy as np\n",
    "import matplotlib.pyplot as plt\n",
    "from PIL import Image\n",
    "import sys\n",
    "import os\n",
    "\n",
    "# add source to the Python path\n",
    "module_path = os.path.abspath(os.path.join('../src'))\n",
    "if module_path not in sys.path:\n",
    "    sys.path.append(module_path)\n",
    "    \n",
    "from images import mirror_border, img_float_to_uint8"
   ]
  },
  {
   "cell_type": "code",
   "execution_count": 47,
   "metadata": {},
   "outputs": [],
   "source": [
    "from scipy.ndimage.interpolation import rotate"
   ]
  },
  {
   "cell_type": "code",
   "execution_count": 20,
   "metadata": {},
   "outputs": [],
   "source": [
    "test_image1 = mpimg.imread(r\"D:\\Arno\\Dropbox\\EPFL\\MA - SC4\\Machine Learning\\ml-chiefs\\data\\training\\images\\satImage_001.png\")\n",
    "test_image2 = mpimg.imread(r\"D:\\Arno\\Dropbox\\EPFL\\MA - SC4\\Machine Learning\\ml-chiefs\\data\\training\\images\\satImage_002.png\")"
   ]
  },
  {
   "cell_type": "code",
   "execution_count": 82,
   "metadata": {},
   "outputs": [],
   "source": [
    "imgs = np.zeros((2,400,400,3))"
   ]
  },
  {
   "cell_type": "code",
   "execution_count": 83,
   "metadata": {},
   "outputs": [],
   "source": [
    "imgs[0] = test_image1"
   ]
  },
  {
   "cell_type": "code",
   "execution_count": 84,
   "metadata": {},
   "outputs": [],
   "source": [
    "imgs[1] = test_image2"
   ]
  },
  {
   "cell_type": "code",
   "execution_count": 86,
   "metadata": {},
   "outputs": [],
   "source": [
    "def mirror_rotate_crop(img):\n",
    "    has_channels = (len(img.shape) == 4)\n",
    "    if not has_channels:\n",
    "        img = np.expand_dims(img, -1)\n",
    "    \n",
    "    num_imgs, img_length, img_width, num_channel = img.shape\n",
    "    assert img_length == img_width\n",
    "    \n",
    "    #mirror and extend\n",
    "    ext_size = int(np.ceil(img_length*(np.sqrt(2) - 1)/2))\n",
    "    extended_img = mirror_border(img, ext_size)\n",
    "    \n",
    "    #rotate\n",
    "    rot = rotate(extended_img, angle=45, axes=(1,2), order=0)\n",
    "    rot_imgs, rot_length, rot_width, num_channel = rot.shape\n",
    "    assert rot_length == rot_width\n",
    "    \n",
    "    #crop\n",
    "    margin = (rot_length - img_length)/2\n",
    "    assert margin % 1 == 0\n",
    "    margin = int(margin)\n",
    "    \n",
    "    rot_s = rot[:,margin:-margin,margin:-margin,:]\n",
    "    rot_s_imgs, rot_s_length, rot_s_width, rot_s_num_channel = rot_s.shape\n",
    "    \n",
    "    assert rot_s_length == img_length\n",
    "    assert rot_s_width == img_width\n",
    "    \n",
    "    if not has_channels:\n",
    "        rot_s = np.squeeze(rot_s_imgs, -1)\n",
    "    \n",
    "    return rot_s"
   ]
  },
  {
   "cell_type": "code",
   "execution_count": 88,
   "metadata": {},
   "outputs": [],
   "source": [
    "rot = mirror_rotate_crop(imgs)"
   ]
  },
  {
   "cell_type": "code",
   "execution_count": null,
   "metadata": {},
   "outputs": [],
   "source": []
  }
 ],
 "metadata": {
  "kernelspec": {
   "display_name": "Python 3",
   "language": "python",
   "name": "python3"
  },
  "language_info": {
   "codemirror_mode": {
    "name": "ipython",
    "version": 3
   },
   "file_extension": ".py",
   "mimetype": "text/x-python",
   "name": "python",
   "nbconvert_exporter": "python",
   "pygments_lexer": "ipython3",
   "version": "3.6.2"
  }
 },
 "nbformat": 4,
 "nbformat_minor": 2
}
